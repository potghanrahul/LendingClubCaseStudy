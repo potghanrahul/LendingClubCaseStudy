{
 "cells": [
  {
   "cell_type": "code",
   "execution_count": 3,
   "id": "57124796",
   "metadata": {},
   "outputs": [],
   "source": [
    "import pandas as pd"
   ]
  },
  {
   "cell_type": "code",
   "execution_count": 10,
   "id": "047e4592",
   "metadata": {},
   "outputs": [
    {
     "name": "stdout",
     "output_type": "stream",
     "text": [
      "['id', 'member_id', 'loan_amnt', 'funded_amnt', 'funded_amnt_inv', 'term', 'int_rate', 'installment', 'grade', 'sub_grade', 'emp_title', 'emp_length', 'home_ownership', 'annual_inc', 'verification_status', 'issue_d', 'loan_status', 'pymnt_plan', 'url', 'desc', 'purpose', 'title', 'zip_code', 'addr_state', 'dti', 'delinq_2yrs', 'earliest_cr_line', 'inq_last_6mths', 'mths_since_last_delinq', 'mths_since_last_record', 'open_acc', 'pub_rec', 'revol_bal', 'revol_util', 'total_acc', 'initial_list_status', 'out_prncp', 'out_prncp_inv', 'total_pymnt', 'total_pymnt_inv', 'total_rec_prncp', 'total_rec_int', 'total_rec_late_fee', 'recoveries', 'collection_recovery_fee', 'last_pymnt_d', 'last_pymnt_amnt', 'next_pymnt_d', 'last_credit_pull_d', 'collections_12_mths_ex_med', 'mths_since_last_major_derog', 'policy_code', 'application_type', 'annual_inc_joint', 'dti_joint', 'verification_status_joint', 'acc_now_delinq', 'tot_coll_amt', 'tot_cur_bal', 'open_acc_6m', 'open_il_6m', 'open_il_12m', 'open_il_24m', 'mths_since_rcnt_il', 'total_bal_il', 'il_util', 'open_rv_12m', 'open_rv_24m', 'max_bal_bc', 'all_util', 'total_rev_hi_lim', 'inq_fi', 'total_cu_tl', 'inq_last_12m', 'acc_open_past_24mths', 'avg_cur_bal', 'bc_open_to_buy', 'bc_util', 'chargeoff_within_12_mths', 'delinq_amnt', 'mo_sin_old_il_acct', 'mo_sin_old_rev_tl_op', 'mo_sin_rcnt_rev_tl_op', 'mo_sin_rcnt_tl', 'mort_acc', 'mths_since_recent_bc', 'mths_since_recent_bc_dlq', 'mths_since_recent_inq', 'mths_since_recent_revol_delinq', 'num_accts_ever_120_pd', 'num_actv_bc_tl', 'num_actv_rev_tl', 'num_bc_sats', 'num_bc_tl', 'num_il_tl', 'num_op_rev_tl', 'num_rev_accts', 'num_rev_tl_bal_gt_0', 'num_sats', 'num_tl_120dpd_2m', 'num_tl_30dpd', 'num_tl_90g_dpd_24m', 'num_tl_op_past_12m', 'pct_tl_nvr_dlq', 'percent_bc_gt_75', 'pub_rec_bankruptcies', 'tax_liens', 'tot_hi_cred_lim', 'total_bal_ex_mort', 'total_bc_limit', 'total_il_high_credit_limit']\n"
     ]
    },
    {
     "name": "stderr",
     "output_type": "stream",
     "text": [
      "/tmp/ipykernel_157915/2856500482.py:1: DtypeWarning: Columns (47) have mixed types. Specify dtype option on import or set low_memory=False.\n",
      "  loan = pd.read_csv(\"loan.csv\")\n"
     ]
    }
   ],
   "source": [
    "loan = pd.read_csv(\"loan.csv\")\n",
    "print(list(loan.columns))"
   ]
  },
  {
   "cell_type": "code",
   "execution_count": null,
   "id": "239d2f90",
   "metadata": {},
   "outputs": [],
   "source": [
    "loan.drop(['id', 'member_id', 'pymnt_plan', 'initial_list_status', 'mths_since_last_major_derog', 'policy_code', 'application_type', 'annual_inc_joint', 'dti_joint', 'verification_status_joint', 'acc_now_delinq', 'tot_coll_amt', 'tot_cur_bal', 'open_acc_6m', 'open_il_6m', 'open_il_12m', 'open_il_24m', 'mths_since_rcnt_il', 'total_bal_il', 'il_util', 'open_rv_12m', 'open_rv_24m', 'max_bal_bc', 'all_util', 'total_rev_hi_lim', 'inq_fi', 'total_cu_tl', 'inq_last_12m', 'acc_open_past_24mths', 'avg_cur_bal', 'bc_open_to_buy', 'bc_util', 'delinq_amnt', 'mo_sin_old_il_acct', 'mo_sin_old_rev_tl_op', 'mo_sin_rcnt_rev_tl_op', 'mo_sin_rcnt_tl', 'mort_acc', 'mths_since_recent_bc', 'mths_since_recent_bc_dlq', 'mths_since_recent_inq', 'mths_since_recent_revol_delinq', 'num_accts_ever_120_pd', 'num_actv_bc_tl', 'num_actv_rev_tl', 'num_bc_sats', 'num_bc_tl', 'num_il_tl', 'num_op_rev_tl', 'num_rev_accts', 'num_rev_tl_bal_gt_0', 'num_sats', 'num_tl_120dpd_2m', 'num_tl_30dpd', 'num_tl_90g_dpd_24m', 'num_tl_op_past_12m', 'pct_tl_nvr_dlq', 'percent_bc_gt_75', 'tot_hi_cred_lim', 'total_bal_ex_mort', 'total_bc_limit', 'total_il_high_credit_limit','url'], axis=1)"
   ]
  },
  {
   "cell_type": "code",
   "execution_count": 39,
   "id": "bdbd2d33",
   "metadata": {},
   "outputs": [
    {
     "name": "stdout",
     "output_type": "stream",
     "text": [
      "pymnt_plan : ['n']\n",
      "initial_list_status : ['f']\n",
      "mths_since_last_major_derog : [nan]\n",
      "policy_code : [1]\n",
      "application_type : ['INDIVIDUAL']\n",
      "annual_inc_joint : [nan]\n",
      "dti_joint : [nan]\n",
      "verification_status_joint : [nan]\n",
      "acc_now_delinq : [0]\n",
      "tot_coll_amt : [nan]\n",
      "tot_cur_bal : [nan]\n",
      "open_acc_6m : [nan]\n",
      "open_il_6m : [nan]\n",
      "open_il_12m : [nan]\n",
      "open_il_24m : [nan]\n",
      "mths_since_rcnt_il : [nan]\n",
      "total_bal_il : [nan]\n",
      "il_util : [nan]\n",
      "open_rv_12m : [nan]\n",
      "open_rv_24m : [nan]\n",
      "max_bal_bc : [nan]\n",
      "all_util : [nan]\n",
      "total_rev_hi_lim : [nan]\n",
      "inq_fi : [nan]\n",
      "total_cu_tl : [nan]\n",
      "inq_last_12m : [nan]\n",
      "acc_open_past_24mths : [nan]\n",
      "avg_cur_bal : [nan]\n",
      "bc_open_to_buy : [nan]\n",
      "bc_util : [nan]\n",
      "delinq_amnt : [0]\n",
      "mo_sin_old_il_acct : [nan]\n",
      "mo_sin_old_rev_tl_op : [nan]\n",
      "mo_sin_rcnt_rev_tl_op : [nan]\n",
      "mo_sin_rcnt_tl : [nan]\n",
      "mort_acc : [nan]\n",
      "mths_since_recent_bc : [nan]\n",
      "mths_since_recent_bc_dlq : [nan]\n",
      "mths_since_recent_inq : [nan]\n",
      "mths_since_recent_revol_delinq : [nan]\n",
      "num_accts_ever_120_pd : [nan]\n",
      "num_actv_bc_tl : [nan]\n",
      "num_actv_rev_tl : [nan]\n",
      "num_bc_sats : [nan]\n",
      "num_bc_tl : [nan]\n",
      "num_il_tl : [nan]\n",
      "num_op_rev_tl : [nan]\n",
      "num_rev_accts : [nan]\n",
      "num_rev_tl_bal_gt_0 : [nan]\n",
      "num_sats : [nan]\n",
      "num_tl_120dpd_2m : [nan]\n",
      "num_tl_30dpd : [nan]\n",
      "num_tl_90g_dpd_24m : [nan]\n",
      "num_tl_op_past_12m : [nan]\n",
      "pct_tl_nvr_dlq : [nan]\n",
      "percent_bc_gt_75 : [nan]\n",
      "tot_hi_cred_lim : [nan]\n",
      "total_bal_ex_mort : [nan]\n",
      "total_bc_limit : [nan]\n",
      "total_il_high_credit_limit : [nan]\n"
     ]
    }
   ],
   "source": []
  }
 ],
 "metadata": {
  "kernelspec": {
   "display_name": "Python 3 (ipykernel)",
   "language": "python",
   "name": "python3"
  },
  "language_info": {
   "codemirror_mode": {
    "name": "ipython",
    "version": 3
   },
   "file_extension": ".py",
   "mimetype": "text/x-python",
   "name": "python",
   "nbconvert_exporter": "python",
   "pygments_lexer": "ipython3",
   "version": "3.9.12"
  }
 },
 "nbformat": 4,
 "nbformat_minor": 5
}
